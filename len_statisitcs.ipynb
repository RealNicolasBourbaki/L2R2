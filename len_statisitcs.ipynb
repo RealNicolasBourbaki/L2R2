{
 "cells": [
  {
   "cell_type": "code",
   "execution_count": 1,
   "metadata": {
    "scrolled": true
   },
   "outputs": [
    {
     "name": "stderr",
     "output_type": "stream",
     "text": [
      "/home/yuxiaoming/zhuyunchang/Programs/anaconda3/envs/py36/lib/python3.6/site-packages/tensorflow/python/framework/dtypes.py:523: FutureWarning: Passing (type, 1) or '1type' as a synonym of type is deprecated; in a future version of numpy, it will be understood as (type, (1,)) / '(1,)type'.\n",
      "  _np_qint8 = np.dtype([(\"qint8\", np.int8, 1)])\n",
      "/home/yuxiaoming/zhuyunchang/Programs/anaconda3/envs/py36/lib/python3.6/site-packages/tensorflow/python/framework/dtypes.py:524: FutureWarning: Passing (type, 1) or '1type' as a synonym of type is deprecated; in a future version of numpy, it will be understood as (type, (1,)) / '(1,)type'.\n",
      "  _np_quint8 = np.dtype([(\"quint8\", np.uint8, 1)])\n",
      "/home/yuxiaoming/zhuyunchang/Programs/anaconda3/envs/py36/lib/python3.6/site-packages/tensorflow/python/framework/dtypes.py:525: FutureWarning: Passing (type, 1) or '1type' as a synonym of type is deprecated; in a future version of numpy, it will be understood as (type, (1,)) / '(1,)type'.\n",
      "  _np_qint16 = np.dtype([(\"qint16\", np.int16, 1)])\n",
      "/home/yuxiaoming/zhuyunchang/Programs/anaconda3/envs/py36/lib/python3.6/site-packages/tensorflow/python/framework/dtypes.py:526: FutureWarning: Passing (type, 1) or '1type' as a synonym of type is deprecated; in a future version of numpy, it will be understood as (type, (1,)) / '(1,)type'.\n",
      "  _np_quint16 = np.dtype([(\"quint16\", np.uint16, 1)])\n",
      "/home/yuxiaoming/zhuyunchang/Programs/anaconda3/envs/py36/lib/python3.6/site-packages/tensorflow/python/framework/dtypes.py:527: FutureWarning: Passing (type, 1) or '1type' as a synonym of type is deprecated; in a future version of numpy, it will be understood as (type, (1,)) / '(1,)type'.\n",
      "  _np_qint32 = np.dtype([(\"qint32\", np.int32, 1)])\n",
      "/home/yuxiaoming/zhuyunchang/Programs/anaconda3/envs/py36/lib/python3.6/site-packages/tensorflow/python/framework/dtypes.py:532: FutureWarning: Passing (type, 1) or '1type' as a synonym of type is deprecated; in a future version of numpy, it will be understood as (type, (1,)) / '(1,)type'.\n",
      "  np_resource = np.dtype([(\"resource\", np.ubyte, 1)])\n",
      "I0116 15:13:26.303243 139865309423424 file_utils.py:39] PyTorch version 1.0.1.post2 available.\n",
      "I0116 15:13:26.762387 139865309423424 modeling_xlnet.py:194] Better speed can be achieved with apex installed from https://www.github.com/nvidia/apex .\n",
      "I0116 15:13:28.816495 139865309423424 tokenization_utils.py:373] loading file https://s3.amazonaws.com/models.huggingface.co/bert/roberta-large-vocab.json from cache at /home/yuxiaoming/.cache/torch/transformers/1ae1f5b6e2b22b25ccc04c000bb79ca847aa226d0761536b011cf7e5868f0655.ef00af9e673c7160b4d41cfda1f48c5f4cba57d5142754525572a846a1ab1b9b\n",
      "I0116 15:13:28.817844 139865309423424 tokenization_utils.py:373] loading file https://s3.amazonaws.com/models.huggingface.co/bert/roberta-large-merges.txt from cache at /home/yuxiaoming/.cache/torch/transformers/f8f83199a6270d582d6245dc100e99c4155de81c9745c6248077018fe01abcfb.70bec105b4158ed9a1747fea67a43f5dee97855c64d62b6ec3742f4cfdb5feda\n",
      "I0116 15:13:28.936852 139865309423424 data_process.py:201] ***** Loading train examples *****\n",
      "I0116 15:13:29.239394 139865309423424 data_process.py:201] ***** Loading dev examples *****\n"
     ]
    },
    {
     "name": "stdout",
     "output_type": "stream",
     "text": [
      "Num train stories 17801\n",
      "Num dev stories 1532\n"
     ]
    }
   ],
   "source": [
    "import logging\n",
    "logging.basicConfig(format='%(asctime)s - %(levelname)s - %(name)s:%(lineno)s -   %(message)s',\n",
    "                    datefmt='%m/%d %H:%M:%S', level=logging.INFO)\n",
    "from transformers import RobertaTokenizer\n",
    "from data_process import AlphaNliProcessor, StoryFeatures\n",
    "\n",
    "tokenizer = RobertaTokenizer.from_pretrained('roberta-large', do_lower_case=False)\n",
    "processor = AlphaNliProcessor('./alphanli/', tokenizer)\n",
    "\n",
    "train_examples = processor.get_examples('train')\n",
    "dev_examples = processor.get_examples('dev')\n",
    "\n",
    "print('Num train stories', len(train_examples))\n",
    "print('Num dev stories', len(dev_examples))"
   ]
  },
  {
   "cell_type": "code",
   "execution_count": 2,
   "metadata": {},
   "outputs": [
    {
     "name": "stderr",
     "output_type": "stream",
     "text": [
      "I0116 15:13:29.260528 139865309423424 data_process.py:139] *** No. 0 example ***\n",
      "I0116 15:13:29.261903 139865309423424 data_process.py:140] story_id: 00050cbb-049e-444f-a17a-04c882da4693-1\n",
      "I0116 15:13:29.262756 139865309423424 data_process.py:142] tokens:\n",
      "<s> Ch ad Ġwent Ġto Ġget Ġthe Ġwheel Ġalignment Ġmeasured Ġon Ġhis Ġcar . </s> Ch ad Ġwas Ġwaiting Ġfor Ġhis Ġcar Ġto Ġbe Ġwashed . </s> The Ġmechanic Ġprovided Ġa Ġworking Ġalignment Ġwith Ġnew Ġbody Ġwork . </s> <pad>\n",
      "<s> Ch ad Ġwent Ġto Ġget Ġthe Ġwheel Ġalignment Ġmeasured Ġon Ġhis Ġcar . </s> Ch ad Ġwas Ġwaiting Ġfor Ġhis Ġcar Ġto Ġbe Ġfinished . </s> The Ġmechanic Ġprovided Ġa Ġworking Ġalignment Ġwith Ġnew Ġbody Ġwork . </s> <pad>\n",
      "<s> Ch ad Ġwent Ġto Ġget Ġthe Ġwheel Ġalignment Ġmeasured Ġon Ġhis Ġcar . </s> Ch ad 's Ġcar Ġhad Ġall Ġsorts Ġof Ġother Ġproblems Ġbesides Ġalignment . </s> The Ġmechanic Ġprovided Ġa Ġworking Ġalignment Ġwith Ġnew Ġbody Ġwork .\n",
      "I0116 15:13:29.263556 139865309423424 data_process.py:144] token_ids:\n",
      "0 4771 625 439 7 120 5 5964 22432 9550 15 39 512 4 2 4771 625 21 2445 13 39 512 7 28 15158 4 2 133 25682 1286 10 447 22432 19 92 809 173 4 2 1\n",
      "0 4771 625 439 7 120 5 5964 22432 9550 15 39 512 4 2 4771 625 21 2445 13 39 512 7 28 1550 4 2 133 25682 1286 10 447 22432 19 92 809 173 4 2 1\n",
      "0 4771 625 439 7 120 5 5964 22432 9550 15 39 512 4 2 4771 625 18 512 56 70 9477 9 97 1272 12035 22432 4 2 133 25682 1286 10 447 22432 19 92 809 173 4\n",
      "I0116 15:13:29.264322 139865309423424 data_process.py:146] token_type_ids:\n",
      "0 0 0 0 0 0 0 0 0 0 0 0 0 0 0 1 1 1 1 1 1 1 1 1 1 1 1 0 0 0 0 0 0 0 0 0 0 0 0 0\n",
      "0 0 0 0 0 0 0 0 0 0 0 0 0 0 0 1 1 1 1 1 1 1 1 1 1 1 1 0 0 0 0 0 0 0 0 0 0 0 0 0\n",
      "0 0 0 0 0 0 0 0 0 0 0 0 0 0 0 1 1 1 1 1 1 1 1 1 1 1 1 1 1 0 0 0 0 0 0 0 0 0 0 0\n",
      "I0116 15:13:29.265244 139865309423424 data_process.py:148] input_mask:\n",
      "1 1 1 1 1 1 1 1 1 1 1 1 1 1 1 1 1 1 1 1 1 1 1 1 1 1 1 1 1 1 1 1 1 1 1 1 1 1 1 0\n",
      "1 1 1 1 1 1 1 1 1 1 1 1 1 1 1 1 1 1 1 1 1 1 1 1 1 1 1 1 1 1 1 1 1 1 1 1 1 1 1 0\n",
      "1 1 1 1 1 1 1 1 1 1 1 1 1 1 1 1 1 1 1 1 1 1 1 1 1 1 1 1 1 1 1 1 1 1 1 1 1 1 1 1\n",
      "I0116 15:13:29.265966 139865309423424 data_process.py:150] labels: 0.0 1.0 1.0 0.0 1.0 0.0 1.0 0.0 1.0 0.0 -1 -1 -1 -1 -1 -1 -1 -1 -1 -1 -1 -1\n",
      "I0116 15:13:29.272979 139865309423424 data_process.py:139] *** No. 1 example ***\n",
      "I0116 15:13:29.273740 139865309423424 data_process.py:140] story_id: 000731f7-c71d-49c8-b8cd-b6848933db99-1\n",
      "I0116 15:13:29.274556 139865309423424 data_process.py:142] tokens:\n",
      "<s> Ch ad Ġloves ĠBarry ĠBonds . </s> Ch ad Ġwent Ġto Ġmeet ĠBarry ĠBonds . </s> Ch ad Ġensured Ġthat Ġhe Ġtook Ġa Ġpicture Ġto Ġremember Ġthe Ġevent . </s> <pad> <pad> <pad> <pad> <pad> <pad> <pad> <pad> <pad>\n",
      "<s> Ch ad Ġloves ĠBarry ĠBonds . </s> Ch ad Ġfailed Ġto Ġmeet ĠBarry ĠBonds . </s> Ch ad Ġensured Ġthat Ġhe Ġtook Ġa Ġpicture Ġto Ġremember Ġthe Ġevent . </s> <pad> <pad> <pad> <pad> <pad> <pad> <pad> <pad> <pad>\n",
      "<s> Ch ad Ġloves ĠBarry ĠBonds . </s> Ch ad Ġfought ĠBarry ĠBonds . </s> Ch ad Ġensured Ġthat Ġhe Ġtook Ġa Ġpicture Ġto Ġremember Ġthe Ġevent . </s> <pad> <pad> <pad> <pad> <pad> <pad> <pad> <pad> <pad> <pad> <pad>\n",
      "I0116 15:13:29.275304 139865309423424 data_process.py:144] token_ids:\n",
      "0 4771 625 6138 7600 23419 4 2 4771 625 439 7 972 7600 23419 4 2 4771 625 14953 14 37 362 10 2170 7 2145 5 515 4 2 1 1 1 1 1 1 1 1 1\n",
      "0 4771 625 6138 7600 23419 4 2 4771 625 1447 7 972 7600 23419 4 2 4771 625 14953 14 37 362 10 2170 7 2145 5 515 4 2 1 1 1 1 1 1 1 1 1\n",
      "0 4771 625 6138 7600 23419 4 2 4771 625 4951 7600 23419 4 2 4771 625 14953 14 37 362 10 2170 7 2145 5 515 4 2 1 1 1 1 1 1 1 1 1 1 1\n",
      "I0116 15:13:29.276007 139865309423424 data_process.py:146] token_type_ids:\n",
      "0 0 0 0 0 0 0 0 1 1 1 1 1 1 1 1 1 0 0 0 0 0 0 0 0 0 0 0 0 0 0 0 0 0 0 0 0 0 0 0\n",
      "0 0 0 0 0 0 0 0 1 1 1 1 1 1 1 1 1 0 0 0 0 0 0 0 0 0 0 0 0 0 0 0 0 0 0 0 0 0 0 0\n",
      "0 0 0 0 0 0 0 0 1 1 1 1 1 1 1 0 0 0 0 0 0 0 0 0 0 0 0 0 0 0 0 0 0 0 0 0 0 0 0 0\n",
      "I0116 15:13:29.276695 139865309423424 data_process.py:148] input_mask:\n",
      "1 1 1 1 1 1 1 1 1 1 1 1 1 1 1 1 1 1 1 1 1 1 1 1 1 1 1 1 1 1 1 0 0 0 0 0 0 0 0 0\n",
      "1 1 1 1 1 1 1 1 1 1 1 1 1 1 1 1 1 1 1 1 1 1 1 1 1 1 1 1 1 1 1 0 0 0 0 0 0 0 0 0\n",
      "1 1 1 1 1 1 1 1 1 1 1 1 1 1 1 1 1 1 1 1 1 1 1 1 1 1 1 1 1 0 0 0 0 0 0 0 0 0 0 0\n",
      "I0116 15:13:29.277364 139865309423424 data_process.py:150] labels: 1.0 0.0 0.0 1.0 0.0 1.0 0.0 0.0 0.0 0.0 0.0 1.0 0.0 0.0 0.0 1.0 0.0 0.0 0.0 0.0 -1 -1\n",
      "I0116 15:13:29.282725 139865309423424 data_process.py:139] *** No. 2 example ***\n",
      "I0116 15:13:29.283457 139865309423424 data_process.py:140] story_id: 00093549-05ba-4ae1-8216-64ef59a972a9-1\n",
      "I0116 15:13:29.284258 139865309423424 data_process.py:142] tokens:\n",
      "<s> H omer Ġbought Ġa Ġgas Ġgrill Ġfor Ġthe Ġsummer . </s> He Ġwanted Ġa Ġsteak . </s> They Ġgrilled Ġsteak Ġfor Ġthe Ġfirst Ġtime Ġon Ġthe Ġgrill . </s> <pad> <pad> <pad> <pad> <pad> <pad> <pad> <pad> <pad> <pad>\n",
      "<s> H omer Ġbought Ġa Ġgas Ġgrill Ġfor Ġthe Ġsummer . </s> He Ġdid Ġnot Ġlike Ġeating Ġste aks . </s> They Ġgrilled Ġsteak Ġfor Ġthe Ġfirst Ġtime Ġon Ġthe Ġgrill . </s> <pad> <pad> <pad> <pad> <pad> <pad> <pad>\n",
      "<s> H omer Ġbought Ġa Ġgas Ġgrill Ġfor Ġthe Ġsummer . </s> He Ġwas Ġreally Ġcraving Ġa Ġsteak Ġdinner . </s> They Ġgrilled Ġsteak Ġfor Ġthe Ġfirst Ġtime Ġon Ġthe Ġgrill . </s> <pad> <pad> <pad> <pad> <pad> <pad> <pad>\n",
      "I0116 15:13:29.284973 139865309423424 data_process.py:144] token_ids:\n",
      "0 725 11032 2162 10 1123 20212 13 5 1035 4 2 894 770 10 19464 4 2 1213 20346 19464 13 5 78 86 15 5 20212 4 2 1 1 1 1 1 1 1 1 1 1\n",
      "0 725 11032 2162 10 1123 20212 13 5 1035 4 2 894 222 45 101 4441 11235 6629 4 2 1213 20346 19464 13 5 78 86 15 5 20212 4 2 1 1 1 1 1 1 1\n",
      "0 725 11032 2162 10 1123 20212 13 5 1035 4 2 894 21 269 32659 10 19464 3630 4 2 1213 20346 19464 13 5 78 86 15 5 20212 4 2 1 1 1 1 1 1 1\n",
      "I0116 15:13:29.285659 139865309423424 data_process.py:146] token_type_ids:\n",
      "0 0 0 0 0 0 0 0 0 0 0 0 1 1 1 1 1 1 0 0 0 0 0 0 0 0 0 0 0 0 0 0 0 0 0 0 0 0 0 0\n",
      "0 0 0 0 0 0 0 0 0 0 0 0 1 1 1 1 1 1 1 1 1 0 0 0 0 0 0 0 0 0 0 0 0 0 0 0 0 0 0 0\n",
      "0 0 0 0 0 0 0 0 0 0 0 0 1 1 1 1 1 1 1 1 1 0 0 0 0 0 0 0 0 0 0 0 0 0 0 0 0 0 0 0\n",
      "I0116 15:13:29.286344 139865309423424 data_process.py:148] input_mask:\n",
      "1 1 1 1 1 1 1 1 1 1 1 1 1 1 1 1 1 1 1 1 1 1 1 1 1 1 1 1 1 1 0 0 0 0 0 0 0 0 0 0\n",
      "1 1 1 1 1 1 1 1 1 1 1 1 1 1 1 1 1 1 1 1 1 1 1 1 1 1 1 1 1 1 1 1 1 0 0 0 0 0 0 0\n",
      "1 1 1 1 1 1 1 1 1 1 1 1 1 1 1 1 1 1 1 1 1 1 1 1 1 1 1 1 1 1 1 1 1 0 0 0 0 0 0 0\n",
      "I0116 15:13:29.286964 139865309423424 data_process.py:150] labels: 1.0 0.0 1.0 0.0 1.0 0.0 1.0 0.0 1.0 0.0 -1 -1 -1 -1 -1 -1 -1 -1 -1 -1 -1 -1\n",
      "I0116 15:13:29.293604 139865309423424 data_process.py:139] *** No. 3 example ***\n",
      "I0116 15:13:29.294343 139865309423424 data_process.py:140] story_id: 000d05af-5db1-4d9d-b4e2-6c01b108b0b1-1\n",
      "I0116 15:13:29.295039 139865309423424 data_process.py:142] tokens:\n",
      "<s> B ren na Ġand ĠI Ġused Ġto Ġbe Ġbest Ġfriends . </s> B ren na Ġand ĠI Ġfought Ġover Ġa Ġboy . </s> We Ġnever Ġtalked Ġagain . </s> <pad> <pad> <pad> <pad> <pad> <pad> <pad> <pad> <pad> <pad>\n",
      "<s> B ren na Ġand ĠI Ġused Ġto Ġbe Ġbest Ġfriends . </s> Bre anna Ġand ĠI Ġwent Ġto Ġthe Ġmall Ġtogether . </s> We Ġnever Ġtalked Ġagain . </s> <pad> <pad> <pad> <pad> <pad> <pad> <pad> <pad> <pad> <pad>\n",
      "<s> B ren na Ġand ĠI Ġused Ġto Ġbe Ġbest Ġfriends . </s> B ren na Ġand ĠI Ġcompromised Ġover Ġa Ġboy . </s> We Ġnever Ġtalked Ġagain . </s> <pad> <pad> <pad> <pad> <pad> <pad> <pad> <pad> <pad> <pad>\n",
      "I0116 15:13:29.295748 139865309423424 data_process.py:144] token_ids:\n",
      "0 387 2558 2133 8 38 341 7 28 275 964 4 2 387 2558 2133 8 38 4951 81 10 2143 4 2 170 393 3244 456 4 2 1 1 1 1 1 1 1 1 1 1\n",
      "0 387 2558 2133 8 38 341 7 28 275 964 4 2 31607 4057 8 38 439 7 5 9367 561 4 2 170 393 3244 456 4 2 1 1 1 1 1 1 1 1 1 1\n",
      "0 387 2558 2133 8 38 341 7 28 275 964 4 2 387 2558 2133 8 38 13969 81 10 2143 4 2 170 393 3244 456 4 2 1 1 1 1 1 1 1 1 1 1\n",
      "I0116 15:13:29.296391 139865309423424 data_process.py:146] token_type_ids:\n",
      "0 0 0 0 0 0 0 0 0 0 0 0 0 1 1 1 1 1 1 1 1 1 1 1 0 0 0 0 0 0 0 0 0 0 0 0 0 0 0 0\n",
      "0 0 0 0 0 0 0 0 0 0 0 0 0 1 1 1 1 1 1 1 1 1 1 1 0 0 0 0 0 0 0 0 0 0 0 0 0 0 0 0\n",
      "0 0 0 0 0 0 0 0 0 0 0 0 0 1 1 1 1 1 1 1 1 1 1 1 0 0 0 0 0 0 0 0 0 0 0 0 0 0 0 0\n",
      "I0116 15:13:29.297030 139865309423424 data_process.py:148] input_mask:\n",
      "1 1 1 1 1 1 1 1 1 1 1 1 1 1 1 1 1 1 1 1 1 1 1 1 1 1 1 1 1 1 0 0 0 0 0 0 0 0 0 0\n",
      "1 1 1 1 1 1 1 1 1 1 1 1 1 1 1 1 1 1 1 1 1 1 1 1 1 1 1 1 1 1 0 0 0 0 0 0 0 0 0 0\n",
      "1 1 1 1 1 1 1 1 1 1 1 1 1 1 1 1 1 1 1 1 1 1 1 1 1 1 1 1 1 1 0 0 0 0 0 0 0 0 0 0\n"
     ]
    },
    {
     "name": "stderr",
     "output_type": "stream",
     "text": [
      "I0116 15:13:29.297654 139865309423424 data_process.py:150] labels: 1.0 0.0 0.0 1.0 0.0 0.0 1.0 0.0 1.0 0.0 0.0 0.0 0.0 0.0 0.0 1.0 0.0 0.0 -1 -1 -1 -1\n",
      "I0116 15:13:29.303876 139865309423424 data_process.py:139] *** No. 4 example ***\n",
      "I0116 15:13:29.304584 139865309423424 data_process.py:140] story_id: 000d9d91-9fec-4ae0-b2c0-79b12fb4f860-1\n",
      "I0116 15:13:29.305537 139865309423424 data_process.py:142] tokens:\n",
      "<s> Josh Ġbought Ġa Ġpar rot Ġas Ġa Ġpet . </s> Josh Ġrealized Ġthat Ġthe Ġpar rot Ġcould Ġtalk !. </s> Josh Ġwas Ġso Ġexcited Ġthat Ġhe Ġtaught Ġhis Ġpar rot Ġhow Ġto Ġsay Ġits Ġname ! </s> <pad> <pad>\n",
      "<s> Josh Ġbought Ġa Ġpar rot Ġas Ġa Ġpet . </s> Josh Ġrealized Ġthat Ġthe Ġdog Ġcould Ġtalk !. </s> Josh Ġwas Ġso Ġexcited Ġthat Ġhe Ġtaught Ġhis Ġpar rot Ġhow Ġto Ġsay Ġits Ġname ! </s> <pad> <pad> <pad>\n",
      "<s> Josh Ġbought Ġa Ġpar rot Ġas Ġa Ġpet . </s> Josh Ġrealized Ġthat Ġthe Ġpar rot Ġhad Ġno Ġvoice . </s> Josh Ġwas Ġso Ġexcited Ġthat Ġhe Ġtaught Ġhis Ġpar rot Ġhow Ġto Ġsay Ġits Ġname ! </s> <pad>\n",
      "I0116 15:13:29.306243 139865309423424 data_process.py:144] token_ids:\n",
      "0 32879 2162 10 2242 12179 25 10 4716 4 2 32879 5426 14 5 2242 12179 115 1067 42202 2 32879 21 98 2283 14 37 5850 39 2242 12179 141 7 224 63 766 328 2 1 1\n",
      "0 32879 2162 10 2242 12179 25 10 4716 4 2 32879 5426 14 5 2335 115 1067 42202 2 32879 21 98 2283 14 37 5850 39 2242 12179 141 7 224 63 766 328 2 1 1 1\n",
      "0 32879 2162 10 2242 12179 25 10 4716 4 2 32879 5426 14 5 2242 12179 56 117 2236 4 2 32879 21 98 2283 14 37 5850 39 2242 12179 141 7 224 63 766 328 2 1\n",
      "I0116 15:13:29.306874 139865309423424 data_process.py:146] token_type_ids:\n",
      "0 0 0 0 0 0 0 0 0 0 0 1 1 1 1 1 1 1 1 1 1 0 0 0 0 0 0 0 0 0 0 0 0 0 0 0 0 0 0 0\n",
      "0 0 0 0 0 0 0 0 0 0 0 1 1 1 1 1 1 1 1 1 0 0 0 0 0 0 0 0 0 0 0 0 0 0 0 0 0 0 0 0\n",
      "0 0 0 0 0 0 0 0 0 0 0 1 1 1 1 1 1 1 1 1 1 1 0 0 0 0 0 0 0 0 0 0 0 0 0 0 0 0 0 0\n",
      "I0116 15:13:29.307507 139865309423424 data_process.py:148] input_mask:\n",
      "1 1 1 1 1 1 1 1 1 1 1 1 1 1 1 1 1 1 1 1 1 1 1 1 1 1 1 1 1 1 1 1 1 1 1 1 1 1 0 0\n",
      "1 1 1 1 1 1 1 1 1 1 1 1 1 1 1 1 1 1 1 1 1 1 1 1 1 1 1 1 1 1 1 1 1 1 1 1 1 0 0 0\n",
      "1 1 1 1 1 1 1 1 1 1 1 1 1 1 1 1 1 1 1 1 1 1 1 1 1 1 1 1 1 1 1 1 1 1 1 1 1 1 1 0\n",
      "I0116 15:13:29.308099 139865309423424 data_process.py:150] labels: 1.0 0.0 0.0 0.0 1.0 0.0 0.0 0.0 0.0 1.0 0.0 0.0 1.0 0.0 0.0 0.0 -1 -1 -1 -1 -1 -1\n"
     ]
    }
   ],
   "source": [
    "train_features = StoryFeatures.convert_from_examples(train_examples, tokenizer, max_hyp_num=22, max_seq_len=72)"
   ]
  },
  {
   "cell_type": "code",
   "execution_count": 3,
   "metadata": {
    "scrolled": true
   },
   "outputs": [
    {
     "name": "stderr",
     "output_type": "stream",
     "text": [
      "I0116 15:14:10.007160 139865309423424 data_process.py:139] *** No. 0 example ***\n",
      "I0116 15:14:10.008227 139865309423424 data_process.py:140] story_id: 58090d3f-8a91-4c89-83ef-2b4994de9d241\n",
      "I0116 15:14:10.009174 139865309423424 data_process.py:142] tokens:\n",
      "<s> Ron Ġstarted Ġhis Ġnew Ġjob Ġas Ġa Ġlandsc aper Ġtoday . </s> Ron Ġignores Ġhis Ġbosses 's Ġorders Ġand Ġcalled Ġhim Ġan Ġidiot . </s> Ron Ġis Ġimmediately Ġfired Ġfor Ġins ub ord ination . </s> <pad> <pad> <pad>\n",
      "<s> Ron Ġstarted Ġhis Ġnew Ġjob Ġas Ġa Ġlandsc aper Ġtoday . </s> Ron 's Ġboss Ġcalled Ġhim Ġan Ġidiot . </s> Ron Ġis Ġimmediately Ġfired Ġfor Ġins ub ord ination . </s> <pad> <pad> <pad> <pad> <pad> <pad> <pad>\n",
      "I0116 15:14:10.009883 139865309423424 data_process.py:144] token_ids:\n",
      "0 27674 554 39 92 633 25 10 19342 15888 452 4 2 27674 30462 39 14063 18 3365 8 373 123 41 30603 4 2 27674 16 1320 2277 13 7540 1792 3109 8111 4 2 1 1 1\n",
      "0 27674 554 39 92 633 25 10 19342 15888 452 4 2 27674 18 3504 373 123 41 30603 4 2 27674 16 1320 2277 13 7540 1792 3109 8111 4 2 1 1 1 1 1 1 1\n",
      "I0116 15:14:10.010824 139865309423424 data_process.py:146] token_type_ids:\n",
      "0 0 0 0 0 0 0 0 0 0 0 0 0 1 1 1 1 1 1 1 1 1 1 1 1 1 0 0 0 0 0 0 0 0 0 0 0 0 0 0\n",
      "0 0 0 0 0 0 0 0 0 0 0 0 0 1 1 1 1 1 1 1 1 1 0 0 0 0 0 0 0 0 0 0 0 0 0 0 0 0 0 0\n",
      "I0116 15:14:10.011609 139865309423424 data_process.py:148] input_mask:\n",
      "1 1 1 1 1 1 1 1 1 1 1 1 1 1 1 1 1 1 1 1 1 1 1 1 1 1 1 1 1 1 1 1 1 1 1 1 1 0 0 0\n",
      "1 1 1 1 1 1 1 1 1 1 1 1 1 1 1 1 1 1 1 1 1 1 1 1 1 1 1 1 1 1 1 1 1 0 0 0 0 0 0 0\n",
      "I0116 15:14:10.012171 139865309423424 data_process.py:150] labels: 1.0 0.0\n",
      "I0116 15:14:10.014473 139865309423424 data_process.py:139] *** No. 1 example ***\n",
      "I0116 15:14:10.015080 139865309423424 data_process.py:140] story_id: 91f9d1d9-934c-44f9-9677-3614def2874b2\n",
      "I0116 15:14:10.016184 139865309423424 data_process.py:142] tokens:\n",
      "<s> S andy Ġlived Ġin ĠNew ĠYork . </s> It Ġstormed Ġin ĠNew ĠYork . </s> S andy Ġwas Ġprepared . </s> <pad> <pad> <pad> <pad> <pad> <pad> <pad> <pad> <pad> <pad> <pad> <pad> <pad> <pad> <pad> <pad> <pad> <pad>\n",
      "<s> S andy Ġlived Ġin ĠNew ĠYork . </s> She Ġpart ied Ġall Ġnight . </s> S andy Ġwas Ġprepared . </s> <pad> <pad> <pad> <pad> <pad> <pad> <pad> <pad> <pad> <pad> <pad> <pad> <pad> <pad> <pad> <pad> <pad> <pad>\n",
      "I0116 15:14:10.016715 139865309423424 data_process.py:144] token_ids:\n",
      "0 104 10708 3033 11 188 469 4 2 243 16965 11 188 469 4 2 104 10708 21 2460 4 2 1 1 1 1 1 1 1 1 1 1 1 1 1 1 1 1 1 1\n",
      "0 104 10708 3033 11 188 469 4 2 2515 233 2550 70 363 4 2 104 10708 21 2460 4 2 1 1 1 1 1 1 1 1 1 1 1 1 1 1 1 1 1 1\n",
      "I0116 15:14:10.017312 139865309423424 data_process.py:146] token_type_ids:\n",
      "0 0 0 0 0 0 0 0 0 1 1 1 1 1 1 1 0 0 0 0 0 0 0 0 0 0 0 0 0 0 0 0 0 0 0 0 0 0 0 0\n",
      "0 0 0 0 0 0 0 0 0 1 1 1 1 1 1 1 0 0 0 0 0 0 0 0 0 0 0 0 0 0 0 0 0 0 0 0 0 0 0 0\n",
      "I0116 15:14:10.017842 139865309423424 data_process.py:148] input_mask:\n",
      "1 1 1 1 1 1 1 1 1 1 1 1 1 1 1 1 1 1 1 1 1 1 0 0 0 0 0 0 0 0 0 0 0 0 0 0 0 0 0 0\n",
      "1 1 1 1 1 1 1 1 1 1 1 1 1 1 1 1 1 1 1 1 1 1 0 0 0 0 0 0 0 0 0 0 0 0 0 0 0 0 0 0\n",
      "I0116 15:14:10.018568 139865309423424 data_process.py:150] labels: 1.0 0.0\n",
      "I0116 15:14:10.021867 139865309423424 data_process.py:139] *** No. 2 example ***\n",
      "I0116 15:14:10.022521 139865309423424 data_process.py:140] story_id: dfedfdca-3c9d-451f-bf9a-abbaa8bbf54f-1\n",
      "I0116 15:14:10.023462 139865309423424 data_process.py:142] tokens:\n",
      "<s> Mary 's Ġmom Ġcame Ġhome Ġwith Ġmore Ġbananas Ġthan Ġthey Ġcould Ġpossibly Ġeat . </s> Mary Ġand Ġher Ġmom Ġdecided Ġto Ġmake Ġchocolate Ġcovered Ġfrozen Ġbananas Ġto Ġavoid Ġwaste . </s> That Ġwas Ġthe Ġbest Ġway Ġever Ġto Ġeat\n",
      "<s> Mary 's Ġmom Ġcame Ġhome Ġwith Ġmore Ġbananas Ġthan Ġthey Ġcould Ġpossibly Ġeat . </s> So ĠMary Ġmade Ġpineapple Ġsplits Ġfor Ġeveryone . </s> That Ġwas Ġthe Ġbest Ġway Ġever Ġto Ġeat Ġa Ġbanana ! </s> <pad> <pad> <pad>\n",
      "I0116 15:14:10.024199 139865309423424 data_process.py:144] token_ids:\n",
      "0 24877 18 3795 376 184 19 55 31130 87 51 115 3544 3529 4 2 24877 8 69 3795 1276 7 146 7548 2913 9214 31130 7 1877 3844 4 2 1711 21 5 275 169 655 7 3529\n",
      "0 24877 18 3795 376 184 19 55 31130 87 51 115 3544 3529 4 2 2847 2708 156 33336 26118 13 961 4 2 1711 21 5 275 169 655 7 3529 10 23611 328 2 1 1 1\n",
      "I0116 15:14:10.024877 139865309423424 data_process.py:146] token_type_ids:\n",
      "0 0 0 0 0 0 0 0 0 0 0 0 0 0 0 0 1 1 1 1 1 1 1 1 1 1 1 1 1 1 1 1 0 0 0 0 0 0 0 0\n",
      "0 0 0 0 0 0 0 0 0 0 0 0 0 0 0 0 1 1 1 1 1 1 1 1 1 0 0 0 0 0 0 0 0 0 0 0 0 0 0 0\n",
      "I0116 15:14:10.025588 139865309423424 data_process.py:148] input_mask:\n",
      "1 1 1 1 1 1 1 1 1 1 1 1 1 1 1 1 1 1 1 1 1 1 1 1 1 1 1 1 1 1 1 1 1 1 1 1 1 1 1 1\n",
      "1 1 1 1 1 1 1 1 1 1 1 1 1 1 1 1 1 1 1 1 1 1 1 1 1 1 1 1 1 1 1 1 1 1 1 1 1 0 0 0\n",
      "I0116 15:14:10.026302 139865309423424 data_process.py:150] labels: 1.0 0.0\n",
      "I0116 15:14:10.028644 139865309423424 data_process.py:139] *** No. 3 example ***\n",
      "I0116 15:14:10.029164 139865309423424 data_process.py:140] story_id: 08302614-b7fc-4fd5-ad07-8c264dc4dcb0-1\n",
      "I0116 15:14:10.029840 139865309423424 data_process.py:142] tokens:\n",
      "<s> Jim Ġwas Ġworking Ġon Ġa Ġproject . </s> Jim Ġfound Ġhe Ġwas Ġmissing Ġan Ġitem . </s> Luckily , Ġhe Ġfound Ġit Ġon Ġa Ġnearby Ġshelf . </s> <pad> <pad> <pad> <pad> <pad> <pad> <pad> <pad> <pad> <pad> <pad>\n",
      "<s> Jim Ġwas Ġworking Ġon Ġa Ġproject . </s> Jim Ġneeded Ġa Ġcertain Ġanimal Ġfor Ġit . </s> Luckily , Ġhe Ġfound Ġit Ġon Ġa Ġnearby Ġshelf . </s> <pad> <pad> <pad> <pad> <pad> <pad> <pad> <pad> <pad> <pad> <pad>\n",
      "I0116 15:14:10.030475 139865309423424 data_process.py:144] token_ids:\n",
      "0 24021 21 447 15 10 695 4 2 24021 303 37 21 1716 41 6880 4 2 42498 6 37 303 24 15 10 3027 15263 4 2 1 1 1 1 1 1 1 1 1 1 1\n",
      "0 24021 21 447 15 10 695 4 2 24021 956 10 1402 3477 13 24 4 2 42498 6 37 303 24 15 10 3027 15263 4 2 1 1 1 1 1 1 1 1 1 1 1\n",
      "I0116 15:14:10.031028 139865309423424 data_process.py:146] token_type_ids:\n",
      "0 0 0 0 0 0 0 0 0 1 1 1 1 1 1 1 1 1 0 0 0 0 0 0 0 0 0 0 0 0 0 0 0 0 0 0 0 0 0 0\n",
      "0 0 0 0 0 0 0 0 0 1 1 1 1 1 1 1 1 1 0 0 0 0 0 0 0 0 0 0 0 0 0 0 0 0 0 0 0 0 0 0\n",
      "I0116 15:14:10.031630 139865309423424 data_process.py:148] input_mask:\n",
      "1 1 1 1 1 1 1 1 1 1 1 1 1 1 1 1 1 1 1 1 1 1 1 1 1 1 1 1 1 0 0 0 0 0 0 0 0 0 0 0\n",
      "1 1 1 1 1 1 1 1 1 1 1 1 1 1 1 1 1 1 1 1 1 1 1 1 1 1 1 1 1 0 0 0 0 0 0 0 0 0 0 0\n",
      "I0116 15:14:10.032115 139865309423424 data_process.py:150] labels: 1.0 0.0\n",
      "I0116 15:14:10.034316 139865309423424 data_process.py:139] *** No. 4 example ***\n",
      "I0116 15:14:10.034779 139865309423424 data_process.py:140] story_id: 38b4e3a2-e815-427b-b7f1-64ffd40d6f84-1\n",
      "I0116 15:14:10.035419 139865309423424 data_process.py:142] tokens:\n",
      "<s> Sean Ġwas Ġsitting Ġat Ġhis Ġdesk . </s> He Ġnoticed Ġthe Ġchair Ġleg Ġwas Ġfalling Ġoff . </s> After Ġa Ġminute , Ġhe Ġwas Ġable Ġto Ġput Ġthe Ġchair Ġback Ġtogether . </s> <pad> <pad> <pad> <pad> <pad> <pad>\n",
      "<s> Sean Ġwas Ġsitting Ġat Ġhis Ġdesk . </s> He Ġleaned Ġtoo Ġfar Ġback Ġand Ġhis Ġchair Ġtipped Ġover . </s> After Ġa Ġminute , Ġhe Ġwas Ġable Ġto Ġput Ġthe Ġchair Ġback Ġtogether . </s> <pad> <pad> <pad> <pad>\n",
      "I0116 15:14:10.035994 139865309423424 data_process.py:144] token_ids:\n",
      "0 25285 21 2828 23 39 8429 4 2 894 5324 5 3428 2985 21 3064 160 4 2 4993 10 2289 6 37 21 441 7 342 5 3428 124 561 4 2 1 1 1 1 1 1\n",
      "0 25285 21 2828 23 39 8429 4 2 894 27627 350 444 124 8 39 3428 13402 81 4 2 4993 10 2289 6 37 21 441 7 342 5 3428 124 561 4 2 1 1 1 1\n",
      "I0116 15:14:10.036589 139865309423424 data_process.py:146] token_type_ids:\n",
      "0 0 0 0 0 0 0 0 0 1 1 1 1 1 1 1 1 1 1 0 0 0 0 0 0 0 0 0 0 0 0 0 0 0 0 0 0 0 0 0\n",
      "0 0 0 0 0 0 0 0 0 1 1 1 1 1 1 1 1 1 1 1 1 0 0 0 0 0 0 0 0 0 0 0 0 0 0 0 0 0 0 0\n",
      "I0116 15:14:10.037146 139865309423424 data_process.py:148] input_mask:\n",
      "1 1 1 1 1 1 1 1 1 1 1 1 1 1 1 1 1 1 1 1 1 1 1 1 1 1 1 1 1 1 1 1 1 1 0 0 0 0 0 0\n",
      "1 1 1 1 1 1 1 1 1 1 1 1 1 1 1 1 1 1 1 1 1 1 1 1 1 1 1 1 1 1 1 1 1 1 1 1 0 0 0 0\n",
      "I0116 15:14:10.037662 139865309423424 data_process.py:150] labels: 1.0 0.0\n"
     ]
    }
   ],
   "source": [
    "dev_features = StoryFeatures.convert_from_examples(dev_examples, tokenizer, max_hyp_num=2, max_seq_len=72)"
   ]
  },
  {
   "cell_type": "code",
   "execution_count": 4,
   "metadata": {},
   "outputs": [],
   "source": [
    "seq_lens = []\n",
    "for f in train_features + dev_features:\n",
    "    seq_lens.extend(list(x for x in map(sum, f.input_mask) if x != 0))"
   ]
  },
  {
   "cell_type": "code",
   "execution_count": 5,
   "metadata": {},
   "outputs": [
    {
     "data": {
      "image/png": "[encoded data removed]",
      "text/plain": [
       "<Figure size 432x288 with 1 Axes>"
      ]
     },
     "metadata": {
      "needs_background": "light"
     },
     "output_type": "display_data"
    },
    {
     "name": "stdout",
     "output_type": "stream",
     "text": [
      "max seq len: 67\n",
      "mean seq len: 34.858269246671625\n",
      "99% of seq len <= 50\n"
     ]
    }
   ],
   "source": [
    "%matplotlib inline\n",
    "import matplotlib.pyplot as plt\n",
    "\n",
    "plt.title('seq_lens')\n",
    "counts, bins, patch = plt.hist(seq_lens, bins=10, log=False)\n",
    "width = bins[1] - bins[0]\n",
    "for a, b in zip(bins, counts):\n",
    "    plt.text(a + width / 2, b + 0.05, '%.0f' % b if b > 0 else '', ha='center', va='bottom',fontsize=7)\n",
    "plt.show()\n",
    "print('max seq len:', max(seq_lens))\n",
    "print('mean seq len:', sum(seq_lens) / len(seq_lens))\n",
    "print('99% of seq len <=', sorted(seq_lens)[int(0.99 * len(seq_lens))])"
   ]
  }
 ],
 "metadata": {
  "kernelspec": {
   "display_name": "Python 3",
   "language": "python",
   "name": "python3"
  },
  "language_info": {
   "codemirror_mode": {
    "name": "ipython",
    "version": 3
   },
   "file_extension": ".py",
   "mimetype": "text/x-python",
   "name": "python",
   "nbconvert_exporter": "python",
   "pygments_lexer": "ipython3",
   "version": "3.6.8"
  }
 },
 "nbformat": 4,
 "nbformat_minor": 1
}
