{
 "cells": [
  {
   "cell_type": "code",
   "execution_count": 1,
   "metadata": {
    "collapsed": true,
    "pycharm": {
     "is_executing": false
    }
   },
   "outputs": [
    {
     "name": "stdout",
     "text": [
      "169654\n",
      "169654\n"
     ],
     "output_type": "stream"
    }
   ],
   "source": [
    "import json\n",
    "\n",
    "examples = []\n",
    "with open('./alphanli/train.jsonl') as f:\n",
    "    for line in f:\n",
    "        if line:\n",
    "            examples.append(json.loads(line))\n",
    "print(len(examples))\n",
    "\n",
    "labels = []\n",
    "with open('./alphanli/train-labels.lst') as f:\n",
    "    for line in f:\n",
    "        if line:\n",
    "            labels.append(int(line))\n",
    "print(len(labels))"
   ]
  },
  {
   "cell_type": "code",
   "execution_count": 2,
   "outputs": [
    {
     "name": "stdout",
     "text": [
      "52\n",
      "17801\n"
     ],
     "output_type": "stream"
    }
   ],
   "source": [
    "from collections import defaultdict\n",
    "\n",
    "dup_hyp_examples = []\n",
    "stories = defaultdict(dict)\n",
    "for (example, label) in zip(examples, labels):\n",
    "    if example['hyp1'] == example['hyp2']:\n",
    "        dup_hyp_examples.append((label, example))\n",
    "        continue\n",
    "    if example['story_id'] not in stories:\n",
    "        stories[example['story_id']]['cnt'] = 1\n",
    "        stories[example['story_id']]['obs1'] = example['obs1']\n",
    "        stories[example['story_id']]['obs2'] = example['obs2']\n",
    "        stories[example['story_id']]['hypes'] = defaultdict(lambda: [0, 0])\n",
    "        stories[example['story_id']]['hypes'][example['hyp1']][int(label==1)] += 1\n",
    "        stories[example['story_id']]['hypes'][example['hyp2']][int(label==2)] += 1\n",
    "    else:\n",
    "        stories[example['story_id']]['cnt'] += 1\n",
    "        assert stories[example['story_id']]['obs1'] == example['obs1']\n",
    "        assert stories[example['story_id']]['obs2'] == example['obs2']\n",
    "        stories[example['story_id']]['hypes'][example['hyp1']][int(label==1)] += 1\n",
    "        stories[example['story_id']]['hypes'][example['hyp2']][int(label==2)] += 1\n",
    "print(len(dup_hyp_examples))\n",
    "print(len(stories))"
   ],
   "metadata": {
    "collapsed": false,
    "pycharm": {
     "name": "#%%\n",
     "is_executing": false
    }
   }
  },
  {
   "cell_type": "code",
   "execution_count": 3,
   "outputs": [
    {
     "name": "stdout",
     "text": [
      "0c006a8d-592e-404a-a9a1-3d6afd8bbc24-1 \n",
      " I moved to Guam. [1, 3]\n",
      "3271c78f-1139-4c15-97bb-30d1e2763a3e-1 \n",
      " Hannah was excited to go. [1, 3]\n",
      "382ae42d-ca55-45eb-952f-7ab95af19a11-1 \n",
      " Amelia answered and asked who it was. [1, 3]\n",
      "427b97a8-6d24-4685-9425-aaf76d0be576-1 \n",
      " She decided to dye it black. [1, 1]\n",
      "78dcc7e0-e50f-4f1d-a7bc-d3d65a22f6b7-1 \n",
      " Travis hated his new job. [1, 3]\n",
      "8e936865-1c65-49c0-b73b-ddf9f2edca76-1 \n",
      " Jeremy was early for the interview. [1, 3]\n",
      "8e936865-1c65-49c0-b73b-ddf9f2edca76-1 \n",
      " Jeremy was late for the interview. [1, 3]\n",
      "90b50da1-b856-4870-b3d1-9139a0365253-1 \n",
      " Briana didn't know how to write her name. [1, 3]\n",
      "8\n",
      "\n",
      "n_hyp count CP\n",
      "2 145 0.8145609797202404\n",
      "3 34 1.005561485309814\n",
      "4 365 3.056008089433178\n",
      "5 2 3.067243413291388\n",
      "6 177 4.061569574742991\n",
      "7 120 4.735689006235605\n",
      "8 1606 13.757654064378405\n",
      "9 37 13.965507555755293\n",
      "10 3494 33.593618336048536\n",
      "11 472 36.24515476658615\n",
      "12 1130 42.593112746474915\n",
      "13 116 43.24476153025111\n",
      "14 566 46.4243581821246\n",
      "15 1905 57.12600415706983\n",
      "16 4879 84.53457670917363\n",
      "17 420 86.89399471939778\n",
      "18 436 89.34329532048761\n",
      "19 843 94.07898432672322\n",
      "20 1052 99.9887646761418\n",
      "21 1 99.99438233807089\n",
      "22 1 100.0\n",
      "mean 13.41475198022583\n",
      "\n",
      "n_pos_hyp count P\n",
      "1 507 2.848154598056289\n",
      "2 683 3.8368630975787874\n",
      "3 1960 11.010617381046009\n",
      "4 8980 50.446604123363855\n",
      "5 5671 31.85776079995506\n",
      "mean 4.046289534295826\n"
     ],
     "output_type": "stream"
    }
   ],
   "source": [
    "from collections import Counter\n",
    "\n",
    "confused_hypes = []\n",
    "n_hyp_counter = Counter()\n",
    "n_pos_hyp_counter = Counter()\n",
    "for story_id, story in stories.items():\n",
    "    n_hyp_counter[len(story['hypes'])] += 1\n",
    "    n_pos_hyp = 0\n",
    "    for hyp, counters in story['hypes'].items():\n",
    "        assert sum(counters) > 0\n",
    "        if counters[0] == 0:\n",
    "            n_pos_hyp += 1\n",
    "        if 0 not in counters:\n",
    "            confused_hypes.append((story_id, hyp, counters))\n",
    "            print(story_id, '\\n', hyp, counters)\n",
    "    n_pos_hyp_counter[n_pos_hyp] += 1\n",
    "print(len(confused_hypes))\n",
    "\n",
    "print('\\nn_hyp count CP')\n",
    "cum_sum = 0\n",
    "for num in sorted(list(n_hyp_counter.keys())):\n",
    "    cum_sum += n_hyp_counter[num]\n",
    "    print(num, n_hyp_counter[num], cum_sum / len(stories) * 100)\n",
    "print('mean', sum([k * v for k, v in n_hyp_counter.items()]) / sum(n_hyp_counter.values()))\n",
    "\n",
    "print('\\nn_pos_hyp count P')\n",
    "for num in sorted(list(n_pos_hyp_counter.keys())):\n",
    "    print(num, n_pos_hyp_counter[num], n_pos_hyp_counter[num] / len(stories) * 100)\n",
    "print('mean', sum([k * v for k, v in n_pos_hyp_counter.items()]) / sum(n_pos_hyp_counter.values()))"
   ],
   "metadata": {
    "collapsed": false,
    "pycharm": {
     "name": "#%%\n",
     "is_executing": false
    }
   }
  },
  {
   "cell_type": "code",
   "execution_count": 5,
   "outputs": [],
   "source": [
    "tmp = stories['3271c78f-1139-4c15-97bb-30d1e2763a3e-1']\n",
    "tmp1 = stories['382ae42d-ca55-45eb-952f-7ab95af19a11-1']\n",
    "tmp2 = stories['0c006a8d-592e-404a-a9a1-3d6afd8bbc24-1 ']"
   ],
   "metadata": {
    "collapsed": false,
    "pycharm": {
     "name": "#%%\n",
     "is_executing": false
    }
   }
  },
  {
   "cell_type": "code",
   "execution_count": null,
   "outputs": [],
   "source": [
    "\n"
   ],
   "metadata": {
    "collapsed": false,
    "pycharm": {
     "name": "#%%\n"
    }
   }
  }
 ],
 "metadata": {
  "kernelspec": {
   "display_name": "Python 3",
   "language": "python",
   "name": "python3"
  },
  "language_info": {
   "codemirror_mode": {
    "name": "ipython",
    "version": 2
   },
   "file_extension": ".py",
   "mimetype": "text/x-python",
   "name": "python",
   "nbconvert_exporter": "python",
   "pygments_lexer": "ipython2",
   "version": "2.7.6"
  },
  "pycharm": {
   "stem_cell": {
    "cell_type": "raw",
    "source": [],
    "metadata": {
     "collapsed": false
    }
   }
  }
 },
 "nbformat": 4,
 "nbformat_minor": 0
}